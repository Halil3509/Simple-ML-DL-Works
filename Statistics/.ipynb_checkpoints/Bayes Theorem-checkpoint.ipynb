{
 "cells": [
  {
   "cell_type": "code",
   "execution_count": 1,
   "id": "aaa34534-5bb7-47df-93f2-c1f7c3df68ea",
   "metadata": {},
   "outputs": [
    {
     "name": "stdout",
     "output_type": "stream",
     "text": [
      "Predicted class for the new sample: versicolor\n"
     ]
    }
   ],
   "source": [
    "import math\n",
    "\n",
    "class GaussianNaiveBayes:\n",
    "    def __init__(self):\n",
    "        self.class_probabilities = {}\n",
    "        self.class_means = {}\n",
    "        self.class_variances = {}\n",
    "        self.classes = set()\n",
    "\n",
    "    def calculate_probability(self, x, mean, variance):\n",
    "        exponent = math.exp(-(math.pow(x - mean, 2) / (2 * variance)))\n",
    "        return (1 / (math.sqrt(2 * math.pi * variance))) * exponent\n",
    "\n",
    "    def train(self, X, y):\n",
    "        total_samples = len(y)\n",
    "        total_features = len(X[0])\n",
    "\n",
    "        # Calculate class probabilities\n",
    "        for label in y:\n",
    "            if label not in self.class_probabilities:\n",
    "                self.class_probabilities[label] = y.count(label) / total_samples\n",
    "                self.classes.add(label)\n",
    "\n",
    "        # Calculate class means and variances for each feature\n",
    "        for label in self.classes:\n",
    "            self.class_means[label] = [0] * total_features\n",
    "            self.class_variances[label] = [0] * total_features\n",
    "\n",
    "            label_indices = [i for i, val in enumerate(y) if val == label]\n",
    "            subset_X = [X[i] for i in label_indices]\n",
    "\n",
    "            for feature in range(total_features):\n",
    "                feature_values = [sample[feature] for sample in subset_X]\n",
    "                self.class_means[label][feature] = sum(feature_values) / len(feature_values)\n",
    "                self.class_variances[label][feature] = sum([(x - self.class_means[label][feature]) ** 2 for x in feature_values]) / (len(feature_values) - 1)\n",
    "\n",
    "    def predict(self, sample):\n",
    "        best_class = None\n",
    "        best_prob = -1\n",
    "\n",
    "        for label in self.classes:\n",
    "            class_prob = self.class_probabilities[label]\n",
    "            for feature, value in enumerate(sample):\n",
    "                mean = self.class_means[label][feature]\n",
    "                variance = self.class_variances[label][feature]\n",
    "                if variance == 0:\n",
    "                    variance = 1e-5  # Add a small value to avoid division by zero\n",
    "                class_prob *= self.calculate_probability(value, mean, variance)\n",
    "\n",
    "            if class_prob > best_prob:\n",
    "                best_prob = class_prob\n",
    "                best_class = label\n",
    "\n",
    "        return best_class\n",
    "\n",
    "\n",
    "# Sample dataset (for demonstration purposes)\n",
    "X = [\n",
    "    [5.1, 3.5, 1.4, 0.2],\n",
    "    [4.9, 3.0, 1.4, 0.2],\n",
    "    [5.8, 2.6, 4.0, 1.2],\n",
    "    [6.0, 3.4, 4.5, 1.6],\n",
    "    [6.7, 3.1, 4.7, 1.5],\n",
    "    [6.3, 2.3, 4.4, 1.3]\n",
    "]\n",
    "\n",
    "y = ['setosa', 'setosa', 'versicolor', 'versicolor', 'versicolor', 'versicolor']\n",
    "\n",
    "# Create and train the Gaussian Naive Bayes classifier\n",
    "classifier = GaussianNaiveBayes()\n",
    "classifier.train(X, y)\n",
    "\n",
    "# Sample new data point to predict\n",
    "new_sample = [5.7, 2.8, 4.1, 1.3]\n",
    "predicted_class = classifier.predict(new_sample)\n",
    "\n",
    "print(f\"Predicted class for the new sample: {predicted_class}\")\n"
   ]
  },
  {
   "cell_type": "code",
   "execution_count": null,
   "id": "2cb49538-d3b8-4c4b-8349-326ce147714d",
   "metadata": {},
   "outputs": [],
   "source": []
  }
 ],
 "metadata": {
  "kernelspec": {
   "display_name": "teknofesteyevenv",
   "language": "python",
   "name": "teknofesteyevenv"
  },
  "language_info": {
   "codemirror_mode": {
    "name": "ipython",
    "version": 3
   },
   "file_extension": ".py",
   "mimetype": "text/x-python",
   "name": "python",
   "nbconvert_exporter": "python",
   "pygments_lexer": "ipython3",
   "version": "3.11.4"
  }
 },
 "nbformat": 4,
 "nbformat_minor": 5
}
